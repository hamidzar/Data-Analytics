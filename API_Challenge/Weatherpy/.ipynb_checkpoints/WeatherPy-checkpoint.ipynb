{
 "cells": [
  {
   "cell_type": "markdown",
   "metadata": {},
   "source": [
    "# WeatherPy\n",
    "----\n",
    "\n",
    "#### Note\n",
    "* Instructions have been included for each segment. You do not have to follow them exactly, but they are included to help you think through the steps."
   ]
  },
  {
   "cell_type": "markdown",
   "metadata": {},
   "source": [
    "# Analysis/Observation\n",
    "* The temperatures are higher closer to the Equator (at 0° Latitude) and are much lower in the Northern Hemisphere as winter is starting because of high latitudes, \n",
    "and therefore receive less direct sunlight in the winter and become colder.\n",
    "* There's little correlation between humidity and Latitude and cloudiness and Latitude. \n",
    "* As for wind Speed and Latitude, wind speeds increase in the upper and lower part on the hemisphere, especially in the north (around 55° to 70° Latitude), and do not go above 10mph within 30° of the Equator."
   ]
  },
  {
   "cell_type": "code",
   "execution_count": 123,
   "metadata": {},
   "outputs": [
    {
     "name": "stdout",
     "output_type": "stream",
     "text": [
      "Requirement already satisfied: citipy in c:\\users\\lenovo\\anaconda3\\lib\\site-packages (0.0.5)\n",
      "Requirement already satisfied: kdtree>=0.12 in c:\\users\\lenovo\\anaconda3\\lib\\site-packages (from citipy) (0.16)\n",
      "Note: you may need to restart the kernel to use updated packages.\n"
     ]
    }
   ],
   "source": [
    "pip install citipy"
   ]
  },
  {
   "cell_type": "code",
   "execution_count": 124,
   "metadata": {
    "scrolled": true
   },
   "outputs": [],
   "source": [
    "# Dependencies and Setup\n",
    "import matplotlib.pyplot as plt\n",
    "import pandas as pd\n",
    "import numpy as np\n",
    "import requests\n",
    "import time\n",
    "from scipy.stats import linregress\n",
    "from pprint import pprint\n",
    "from datetime import datetime\n",
    "# Import API key\n",
    "from config import api_key\n",
    "\n",
    "#from api_keys import weather_api_key\n",
    "#from config import weather_api_key\n",
    "# Incorporated citipy to determine city based on latitude and longitude\n",
    "\n",
    "url = \"http://api.openweathermap.org/data/2.5/weather?\"\n",
    "units = \"metric\"\n",
    "query_url = f\"{url}appid={api_key}&units={units}&q=\"\n",
    "\n",
    "from citipy import citipy\n",
    "\n",
    "# Output File (CSV)\n",
    "output_data_file = \"output_data/cities.csv\"\n",
    "\n",
    "# Range of latitudes and longitudes\n",
    "lat_range = (-90, 90)\n",
    "lng_range = (-180, 180)"
   ]
  },
  {
   "cell_type": "markdown",
   "metadata": {},
   "source": [
    "## Generate Cities List"
   ]
  },
  {
   "cell_type": "code",
   "execution_count": 84,
   "metadata": {},
   "outputs": [
    {
     "data": {
      "text/plain": [
       "621"
      ]
     },
     "execution_count": 84,
     "metadata": {},
     "output_type": "execute_result"
    }
   ],
   "source": [
    "# List for holding lat_lngs and cities\n",
    "lat_lngs = []\n",
    "cities = []\n",
    "\n",
    "# Create a set of random lat and lng combinations\n",
    "lats = np.random.uniform(lat_range[0], lat_range[1], size=1500)\n",
    "lngs = np.random.uniform(lng_range[0], lng_range[1], size=1500)\n",
    "lat_lngs = zip(lats, lngs)\n",
    "\n",
    "# Identify nearest city for each lat, lng combination\n",
    "for lat_lng in lat_lngs:\n",
    "    city = citipy.nearest_city(lat_lng[0], lat_lng[1]).city_name\n",
    "    \n",
    "    # If the city is unique, then add it to a our cities list\n",
    "    if city not in cities:\n",
    "        cities.append(city)\n",
    "\n",
    "# Print the city count to confirm sufficient count\n",
    "len(cities)"
   ]
  },
  {
   "cell_type": "code",
   "execution_count": 85,
   "metadata": {},
   "outputs": [
    {
     "name": "stdout",
     "output_type": "stream",
     "text": [
      "{'base': 'stations',\n",
      " 'clouds': {'all': 20},\n",
      " 'cod': 200,\n",
      " 'coord': {'lat': 47.26, 'lon': 39.87},\n",
      " 'dt': 1604776122,\n",
      " 'id': 583673,\n",
      " 'main': {'feels_like': 4.28,\n",
      "          'humidity': 87,\n",
      "          'pressure': 1024,\n",
      "          'temp': 8,\n",
      "          'temp_max': 8,\n",
      "          'temp_min': 8},\n",
      " 'name': 'Aksay',\n",
      " 'sys': {'country': 'RU',\n",
      "         'id': 8971,\n",
      "         'sunrise': 1604722383,\n",
      "         'sunset': 1604757325,\n",
      "         'type': 1},\n",
      " 'timezone': 10800,\n",
      " 'visibility': 10000,\n",
      " 'weather': [{'description': 'few clouds',\n",
      "              'icon': '02n',\n",
      "              'id': 801,\n",
      "              'main': 'Clouds'}],\n",
      " 'wind': {'deg': 310, 'speed': 4}}\n"
     ]
    }
   ],
   "source": [
    "response = requests.get(query_url + city).json()\n",
    "pprint(response)"
   ]
  },
  {
   "cell_type": "markdown",
   "metadata": {},
   "source": [
    "### Perform API Calls\n",
    "* Perform a weather check on each city using a series of successive API calls.\n",
    "* Include a print log of each city as it'sbeing processed (with the city number and city name).\n"
   ]
  },
  {
   "cell_type": "code",
   "execution_count": 86,
   "metadata": {},
   "outputs": [
    {
     "name": "stdout",
     "output_type": "stream",
     "text": [
      "Processing record 1|freeport\n",
      "Processing record 2|east london\n",
      "City not found. skipping.\n",
      "City not found. skipping.\n",
      "Processing record 3|hermanus\n",
      "Processing record 4|busselton\n",
      "Processing record 5|the valley\n",
      "Processing record 6|hilo\n",
      "Processing record 7|port hardy\n",
      "Processing record 8|tasiilaq\n",
      "Processing record 9|yarim\n",
      "Processing record 10|morondava\n",
      "Processing record 11|mehamn\n",
      "Processing record 12|luganville\n",
      "City not found. skipping.\n",
      "Processing record 13|bluff\n",
      "Processing record 14|puerto escondido\n",
      "Processing record 15|westport\n",
      "Processing record 16|albany\n",
      "Processing record 17|narsaq\n",
      "Processing record 18|jamestown\n",
      "Processing record 19|chuy\n",
      "Processing record 20|castro\n",
      "Processing record 21|wukari\n",
      "Processing record 22|rikitea\n",
      "City not found. skipping.\n",
      "Processing record 23|egvekinot\n",
      "Processing record 24|ushuaia\n",
      "Processing record 25|new norfolk\n",
      "Processing record 26|naze\n",
      "City not found. skipping.\n",
      "City not found. skipping.\n",
      "Processing record 27|batagay-alyta\n",
      "Processing record 28|mataura\n",
      "Processing record 29|rongcheng\n",
      "Processing record 30|high level\n",
      "Processing record 31|hobart\n",
      "Processing record 32|khatanga\n",
      "Processing record 33|hithadhoo\n",
      "City not found. skipping.\n",
      "Processing record 34|georgetown\n",
      "Processing record 35|nandigama\n",
      "Processing record 36|vaini\n",
      "Processing record 37|nikolskoye\n",
      "Processing record 38|champerico\n",
      "Processing record 39|leningradskiy\n",
      "Processing record 40|port blair\n",
      "Processing record 41|agogo\n",
      "Processing record 42|salalah\n",
      "City not found. skipping.\n",
      "Processing record 43|thompson\n",
      "Processing record 44|husavik\n",
      "Processing record 45|severo-kurilsk\n",
      "Processing record 46|dutse\n",
      "Processing record 47|sobolevo\n",
      "Processing record 48|bambous virieux\n",
      "City not found. skipping.\n",
      "Processing record 49|puerto ayora\n",
      "Processing record 50|catu\n",
      "City not found. skipping.\n",
      "Processing record 51|liwale\n",
      "Processing record 52|port elizabeth\n",
      "Processing record 53|port alfred\n",
      "Processing record 54|mishkino\n",
      "Processing record 55|bethel\n",
      "Processing record 56|asau\n",
      "Processing record 57|merano\n",
      "Processing record 58|tura\n",
      "Processing record 59|fortuna\n",
      "City not found. skipping.\n",
      "Processing record 60|luderitz\n",
      "Processing record 61|qinzhou\n",
      "Processing record 62|clyde river\n",
      "Processing record 63|port-gentil\n",
      "Processing record 64|halifax\n",
      "Processing record 65|bereda\n",
      "Processing record 66|roebourne\n",
      "Processing record 67|dormidontovka\n",
      "Processing record 68|wattegama\n",
      "City not found. skipping.\n",
      "Processing record 69|huallanca\n",
      "Processing record 70|punta arenas\n",
      "Processing record 71|fairbanks\n",
      "Processing record 72|huambo\n",
      "Processing record 73|graaff-reinet\n",
      "Processing record 74|harare\n",
      "Processing record 75|wete\n",
      "Processing record 76|nanortalik\n",
      "City not found. skipping.\n",
      "Processing record 77|zeerust\n",
      "Processing record 78|lasa\n",
      "Processing record 79|nokaneng\n",
      "Processing record 80|caraguatatuba\n",
      "Processing record 81|sitka\n",
      "Processing record 82|aitape\n",
      "Processing record 83|bredasdorp\n",
      "Processing record 84|duayaw nkwanta\n",
      "Processing record 85|butaritari\n",
      "Processing record 86|tiksi\n",
      "Processing record 87|novyy urengoy\n",
      "Processing record 88|flinders\n",
      "Processing record 89|itarema\n",
      "Processing record 90|cape town\n",
      "Processing record 91|victoria\n",
      "Processing record 92|dunedin\n",
      "Processing record 93|quang ngai\n",
      "Processing record 94|necochea\n",
      "Processing record 95|oxford\n",
      "Processing record 96|souillac\n",
      "City not found. skipping.\n",
      "Processing record 97|yarada\n",
      "Processing record 98|santa fe\n",
      "Processing record 99|barrow\n",
      "Processing record 100|labuhan\n",
      "Processing record 101|qaanaaq\n",
      "City not found. skipping.\n",
      "Processing record 102|naantali\n",
      "Processing record 103|katsuura\n",
      "Processing record 104|rio gallegos\n",
      "Processing record 105|sao filipe\n",
      "Processing record 106|puri\n",
      "Processing record 107|mahebourg\n",
      "Processing record 108|fenoarivo\n",
      "Processing record 109|urucara\n",
      "Processing record 110|half moon bay\n",
      "Processing record 111|chokwe\n",
      "Processing record 112|constitucion\n",
      "Processing record 113|puerto del rosario\n",
      "Processing record 114|inhambane\n",
      "Processing record 115|port moresby\n",
      "Processing record 116|kapaa\n",
      "Processing record 117|ahipara\n",
      "Processing record 118|dukat\n",
      "City not found. skipping.\n",
      "Processing record 119|leh\n",
      "Processing record 120|guerrero negro\n",
      "Processing record 121|leiyang\n",
      "Processing record 122|pelotas\n",
      "Processing record 123|avera\n",
      "City not found. skipping.\n",
      "Processing record 124|saint anthony\n",
      "Processing record 125|marovoay\n",
      "Processing record 126|cabo san lucas\n",
      "Processing record 127|riviere-au-renard\n",
      "Processing record 128|kilindoni\n",
      "Processing record 129|nioro\n",
      "Processing record 130|mar del plata\n",
      "Processing record 131|banfora\n",
      "Processing record 132|coihaique\n",
      "Processing record 133|tuktoyaktuk\n",
      "Processing record 134|lompoc\n",
      "Processing record 135|heihe\n",
      "Processing record 136|avarua\n",
      "City not found. skipping.\n",
      "Processing record 137|saldanha\n",
      "Processing record 138|poum\n",
      "Processing record 139|tautira\n",
      "Processing record 140|amapa\n",
      "Processing record 141|airai\n",
      "Processing record 142|monze\n",
      "Processing record 143|longyearbyen\n",
      "Processing record 144|arraial do cabo\n",
      "Processing record 145|san cristobal\n",
      "Processing record 146|gornoye loo\n",
      "Processing record 147|storsteinnes\n",
      "Processing record 148|karasburg\n",
      "Processing record 149|los llanos de aridane\n",
      "Processing record 150|kristianstad\n",
      "Processing record 151|ribeira grande\n",
      "Processing record 152|san rafael\n",
      "Processing record 153|cocobeach\n",
      "Processing record 154|odessa\n",
      "Processing record 155|vestmannaeyjar\n",
      "Processing record 156|hasaki\n",
      "Processing record 157|mayo\n",
      "Processing record 158|lebu\n",
      "Processing record 159|kondinskoye\n",
      "Processing record 160|huilong\n",
      "Processing record 161|alakurtti\n",
      "Processing record 162|fuxin\n",
      "Processing record 163|faanui\n",
      "Processing record 164|biak\n",
      "Processing record 165|bokovskaya\n",
      "Processing record 166|bundaberg\n",
      "Processing record 167|shelburne\n",
      "Processing record 168|norman wells\n",
      "Processing record 169|araouane\n",
      "Processing record 170|cidreira\n",
      "Processing record 171|geraldton\n",
      "Processing record 172|caranavi\n",
      "City not found. skipping.\n",
      "Processing record 173|buala\n",
      "Processing record 174|alexander city\n",
      "Processing record 175|lavrentiya\n",
      "Processing record 176|iqaluit\n",
      "Processing record 177|nouadhibou\n",
      "Processing record 178|gizo\n",
      "Processing record 179|hokitika\n",
      "Processing record 180|nome\n",
      "Processing record 181|sortavala\n",
      "Processing record 182|saskylakh\n",
      "Processing record 183|namibe\n",
      "Processing record 184|langxiang\n",
      "Processing record 185|cherskiy\n",
      "Processing record 186|mahina\n",
      "Processing record 187|hede\n",
      "Processing record 188|port lincoln\n",
      "Processing record 189|fatwa\n",
      "Processing record 190|beloha\n",
      "Processing record 191|okhotsk\n",
      "Processing record 192|trincomalee\n",
      "Processing record 193|novikovo\n",
      "Processing record 194|isangel\n",
      "Processing record 195|upernavik\n",
      "Processing record 196|filingue\n",
      "Processing record 197|alpena\n",
      "Processing record 198|kargasok\n",
      "Processing record 199|jutai\n",
      "Processing record 200|lata\n",
      "Processing record 201|berbera\n",
      "Processing record 202|frankfort\n",
      "Processing record 203|san patricio\n",
      "Processing record 204|esmeraldas\n",
      "Processing record 205|goure\n",
      "Processing record 206|yellowknife\n",
      "Processing record 207|dikson\n",
      "Processing record 208|priiskovyy\n",
      "Processing record 209|solnechnyy\n",
      "Processing record 210|ancud\n",
      "Processing record 211|roma\n",
      "Processing record 212|sinnamary\n",
      "Processing record 213|chokurdakh\n",
      "Processing record 214|redlands\n",
      "City not found. skipping.\n",
      "Processing record 215|el astillero\n",
      "Processing record 216|nioki\n",
      "Processing record 217|kodiak\n",
      "Processing record 218|puerto leguizamo\n",
      "Processing record 219|hualmay\n",
      "City not found. skipping.\n",
      "City not found. skipping.\n",
      "City not found. skipping.\n",
      "Processing record 220|guane\n",
      "Processing record 221|paamiut\n",
      "City not found. skipping.\n",
      "Processing record 222|prieska\n",
      "Processing record 223|portland\n",
      "Processing record 224|caravelas\n",
      "Processing record 225|ponta do sol\n",
      "Processing record 226|ostrovnoy\n",
      "Processing record 227|ambulu\n",
      "Processing record 228|kavaratti\n",
      "Processing record 229|mbandaka\n",
      "Processing record 230|lagoa\n",
      "Processing record 231|cayenne\n",
      "Processing record 232|provideniya\n",
      "Processing record 233|santa elena\n",
      "Processing record 234|port macquarie\n",
      "Processing record 235|qasigiannguit\n",
      "Processing record 236|claremont\n",
      "Processing record 237|mahajanga\n",
      "Processing record 238|carnarvon\n",
      "Processing record 239|pacific grove\n",
      "Processing record 240|mitu\n",
      "Processing record 241|khandyga\n",
      "Processing record 242|ust-tsilma\n",
      "Processing record 243|dingle\n",
      "City not found. skipping.\n",
      "Processing record 244|rayagada\n",
      "City not found. skipping.\n",
      "City not found. skipping.\n"
     ]
    },
    {
     "name": "stdout",
     "output_type": "stream",
     "text": [
      "Processing record 245|hammerfest\n",
      "Processing record 246|syracuse\n",
      "Processing record 247|sioux lookout\n",
      "Processing record 248|partur\n",
      "City not found. skipping.\n",
      "Processing record 249|kaeo\n",
      "City not found. skipping.\n",
      "Processing record 250|saint george\n",
      "Processing record 251|sao joao da barra\n",
      "City not found. skipping.\n",
      "Processing record 252|ilulissat\n",
      "Processing record 253|zhanaozen\n",
      "City not found. skipping.\n",
      "Processing record 254|reims\n",
      "Processing record 255|ziyang\n",
      "Processing record 256|iranshahr\n",
      "Processing record 257|mecca\n",
      "Processing record 258|bubaque\n",
      "Processing record 259|rincon\n",
      "Processing record 260|pangnirtung\n",
      "Processing record 261|pochutla\n",
      "Processing record 262|wahlstedt\n",
      "Processing record 263|cascais\n",
      "Processing record 264|kormilovka\n",
      "City not found. skipping.\n",
      "Processing record 265|hambantota\n",
      "Processing record 266|qiyang\n",
      "Processing record 267|makakilo city\n",
      "City not found. skipping.\n",
      "Processing record 268|homer\n",
      "Processing record 269|ishigaki\n",
      "Processing record 270|vardo\n",
      "Processing record 271|tailai\n",
      "Processing record 272|valea mare\n",
      "Processing record 273|yumen\n",
      "Processing record 274|praia da vitoria\n",
      "Processing record 275|namatanai\n",
      "Processing record 276|marawi\n",
      "Processing record 277|seoul\n",
      "Processing record 278|beringovskiy\n",
      "Processing record 279|petropavlovsk-kamchatskiy\n",
      "Processing record 280|kudahuvadhoo\n",
      "Processing record 281|srednekolymsk\n",
      "Processing record 282|susangerd\n",
      "Processing record 283|elliot\n",
      "Processing record 284|pavino\n",
      "Processing record 285|peleduy\n",
      "Processing record 286|mehriz\n",
      "Processing record 287|ponta delgada\n",
      "Processing record 288|aripuana\n",
      "Processing record 289|anchorage\n",
      "Processing record 290|shache\n",
      "Processing record 291|butembo\n",
      "Processing record 292|charlottetown\n",
      "Processing record 293|hazorasp\n",
      "Processing record 294|roald\n",
      "Processing record 295|yulara\n",
      "Processing record 296|andover\n",
      "Processing record 297|mataram\n",
      "Processing record 298|nahrin\n",
      "Processing record 299|tuatapere\n",
      "Processing record 300|les cayes\n",
      "Processing record 301|khiri mat\n",
      "Processing record 302|somerset\n",
      "Processing record 303|saint-philippe\n",
      "Processing record 304|joao pinheiro\n",
      "Processing record 305|kisangani\n",
      "Processing record 306|mareeba\n",
      "Processing record 307|ritchie\n",
      "Processing record 308|mubi\n",
      "Processing record 309|kavieng\n",
      "City not found. skipping.\n",
      "Processing record 310|vila franca do campo\n",
      "Processing record 311|jiaozuo\n",
      "Processing record 312|atuona\n",
      "Processing record 313|santa maria\n",
      "Processing record 314|hobyo\n",
      "Processing record 315|gat\n",
      "City not found. skipping.\n",
      "Processing record 316|yar-sale\n",
      "Processing record 317|hearst\n",
      "Processing record 318|jian\n",
      "Processing record 319|andenes\n",
      "Processing record 320|padang\n",
      "Processing record 321|mulki\n",
      "Processing record 322|alexandria\n",
      "Processing record 323|ladario\n",
      "Processing record 324|la ronge\n",
      "Processing record 325|the pas\n",
      "City not found. skipping.\n",
      "Processing record 326|golspie\n",
      "Processing record 327|sidi ali\n",
      "Processing record 328|abong mbang\n",
      "Processing record 329|dhanwar\n",
      "Processing record 330|shingu\n",
      "City not found. skipping.\n",
      "Processing record 331|pleasanton\n",
      "Processing record 332|dakar\n",
      "Processing record 333|talcahuano\n",
      "Processing record 334|kaitangata\n",
      "Processing record 335|olafsvik\n",
      "Processing record 336|udachnyy\n",
      "Processing record 337|liverpool\n",
      "Processing record 338|kisanga\n",
      "Processing record 339|pevek\n",
      "Processing record 340|hami\n",
      "Processing record 341|opuwo\n",
      "Processing record 342|haflong\n",
      "Processing record 343|kruisfontein\n",
      "Processing record 344|sakai\n",
      "City not found. skipping.\n",
      "City not found. skipping.\n",
      "Processing record 345|muscat\n",
      "Processing record 346|longonjo\n",
      "Processing record 347|mangrol\n",
      "Processing record 348|auki\n",
      "Processing record 349|nevsehir\n",
      "Processing record 350|tabuk\n",
      "Processing record 351|honiara\n",
      "Processing record 352|belmonte\n",
      "Processing record 353|komsomolskiy\n",
      "Processing record 354|torbay\n",
      "City not found. skipping.\n",
      "Processing record 355|nabire\n",
      "Processing record 356|ulaangom\n",
      "Processing record 357|jiuquan\n",
      "Processing record 358|anloga\n",
      "Processing record 359|mogadishu\n",
      "Processing record 360|vinh long\n",
      "Processing record 361|ciudad bolivar\n",
      "Processing record 362|yatou\n",
      "Processing record 363|sandwick\n",
      "Processing record 364|rong kwang\n",
      "Processing record 365|na klang\n",
      "Processing record 366|itacoatiara\n",
      "Processing record 367|manokwari\n",
      "Processing record 368|umm kaddadah\n",
      "Processing record 369|saint-augustin\n",
      "Processing record 370|turukhansk\n",
      "City not found. skipping.\n",
      "Processing record 371|alofi\n",
      "Processing record 372|waingapu\n",
      "Processing record 373|laguna\n",
      "Processing record 374|acari\n",
      "Processing record 375|toktogul\n",
      "Processing record 376|onalaska\n",
      "Processing record 377|birao\n",
      "Processing record 378|emborion\n",
      "City not found. skipping.\n",
      "Processing record 379|san quintin\n",
      "Processing record 380|tirlyanskiy\n",
      "Processing record 381|bin qirdan\n",
      "Processing record 382|kysyl-syr\n",
      "Processing record 383|normandin\n",
      "City not found. skipping.\n",
      "Processing record 384|carauari\n",
      "Processing record 385|dhandhuka\n",
      "Processing record 386|carutapera\n",
      "Processing record 387|beisfjord\n",
      "Processing record 388|mount isa\n",
      "City not found. skipping.\n",
      "Processing record 389|alice springs\n",
      "City not found. skipping.\n",
      "Processing record 390|mahibadhoo\n",
      "Processing record 391|kropotkin\n",
      "Processing record 392|ornskoldsvik\n",
      "Processing record 393|newport\n",
      "Processing record 394|mugur-aksy\n",
      "Processing record 395|tolmezzo\n",
      "Processing record 396|mae sai\n",
      "Processing record 397|taiyuan\n",
      "Processing record 398|pasni\n",
      "Processing record 399|comodoro rivadavia\n",
      "Processing record 400|kununurra\n",
      "Processing record 401|shelbyville\n",
      "Processing record 402|prado\n",
      "Processing record 403|yemanzhelinsk\n",
      "Processing record 404|sola\n",
      "Processing record 405|fallon\n",
      "Processing record 406|buraydah\n",
      "Processing record 407|erenhot\n",
      "Processing record 408|klaksvik\n",
      "Processing record 409|lardos\n",
      "Processing record 410|san roque\n",
      "Processing record 411|beyneu\n",
      "Processing record 412|chunoyar\n",
      "Processing record 413|susa\n",
      "Processing record 414|hofn\n",
      "Processing record 415|alta floresta\n",
      "Processing record 416|esperance\n",
      "Processing record 417|marystown\n",
      "Processing record 418|smidovich\n",
      "Processing record 419|north bend\n",
      "Processing record 420|tabou\n",
      "Processing record 421|college\n",
      "Processing record 422|gardez\n",
      "Processing record 423|jaumave\n",
      "Processing record 424|ariquemes\n",
      "Processing record 425|powell river\n",
      "Processing record 426|nortelandia\n",
      "Processing record 427|amuntai\n",
      "Processing record 428|lazaro cardenas\n",
      "Processing record 429|agadez\n",
      "Processing record 430|pingliang\n",
      "Processing record 431|sinnai\n",
      "Processing record 432|koungou\n",
      "City not found. skipping.\n",
      "Processing record 433|spirit river\n",
      "Processing record 434|bengkulu\n",
      "Processing record 435|guanica\n",
      "Processing record 436|bathsheba\n",
      "Processing record 437|viedma\n",
      "Processing record 438|matay\n",
      "Processing record 439|bad munstereifel\n",
      "Processing record 440|broken hill\n",
      "Processing record 441|venray\n",
      "Processing record 442|panalingaan\n",
      "Processing record 443|najran\n",
      "Processing record 444|hervey bay\n",
      "Processing record 445|eldorado\n",
      "Processing record 446|broome\n",
      "Processing record 447|harper\n",
      "Processing record 448|coquimbo\n",
      "Processing record 449|russell\n",
      "Processing record 450|belaya gora\n",
      "City not found. skipping.\n",
      "Processing record 451|sembe\n",
      "Processing record 452|bayir\n",
      "Processing record 453|praya\n",
      "Processing record 454|rio claro\n",
      "City not found. skipping.\n",
      "Processing record 455|zhigansk\n",
      "Processing record 456|vila velha\n",
      "City not found. skipping.\n",
      "Processing record 457|mackenzie\n",
      "Processing record 458|selfoss\n",
      "Processing record 459|naifaru\n",
      "Processing record 460|trelew\n",
      "Processing record 461|fort nelson\n",
      "Processing record 462|koster\n",
      "Processing record 463|kushima\n",
      "Processing record 464|mednogorskiy\n",
      "Processing record 465|aklavik\n",
      "Processing record 466|yabrud\n",
      "Processing record 467|havre-saint-pierre\n",
      "Processing record 468|kandara\n",
      "Processing record 469|saint-francois\n",
      "Processing record 470|coari\n",
      "Processing record 471|deputatskiy\n",
      "City not found. skipping.\n",
      "Processing record 472|presidencia roque saenz pena\n",
      "City not found. skipping.\n",
      "Processing record 473|mitsamiouli\n",
      "Processing record 474|alaca\n",
      "Processing record 475|luzhou\n",
      "Processing record 476|maragogi\n",
      "Processing record 477|jonesboro\n",
      "Processing record 478|zeya\n",
      "Processing record 479|zhigalovo\n",
      "Processing record 480|oksfjord\n",
      "Processing record 481|honningsvag\n",
      "Processing record 482|richards bay\n",
      "Processing record 483|hay river\n",
      "Processing record 484|boffa\n",
      "Processing record 485|caceres\n",
      "Processing record 486|piranshahr\n",
      "Processing record 487|oranjemund\n"
     ]
    },
    {
     "name": "stdout",
     "output_type": "stream",
     "text": [
      "Processing record 488|doha\n",
      "Processing record 489|bikaner\n",
      "Processing record 490|pangai\n",
      "Processing record 491|avinurme\n",
      "Processing record 492|samarai\n",
      "Processing record 493|talnakh\n",
      "Processing record 494|ndele\n",
      "Processing record 495|ust-uda\n",
      "Processing record 496|muzhi\n",
      "Processing record 497|evora\n",
      "Processing record 498|tambovka\n",
      "Processing record 499|krasnoselkup\n",
      "Processing record 500|jalu\n",
      "Processing record 501|tizimin\n",
      "Processing record 502|starchiojd\n",
      "Processing record 503|kanke\n",
      "Processing record 504|krasnovka\n",
      "Processing record 505|vostok\n",
      "Processing record 506|batemans bay\n",
      "Processing record 507|houma\n",
      "Processing record 508|teluk nibung\n",
      "City not found. skipping.\n",
      "Processing record 509|kaihua\n",
      "Processing record 510|tsabong\n",
      "Processing record 511|tiznit\n",
      "Processing record 512|cahir\n",
      "Processing record 513|danville\n",
      "Processing record 514|calvillo\n",
      "Processing record 515|tessalit\n",
      "Processing record 516|hovd\n",
      "City not found. skipping.\n",
      "Processing record 517|humaita\n",
      "Processing record 518|yertsevo\n",
      "Processing record 519|ossora\n",
      "Processing record 520|lakes entrance\n",
      "Processing record 521|maniitsoq\n",
      "Processing record 522|pyapon\n",
      "Processing record 523|kulhudhuffushi\n",
      "City not found. skipping.\n",
      "Processing record 524|garden city\n",
      "Processing record 525|pisco\n",
      "Processing record 526|letpadan\n",
      "Processing record 527|nantucket\n",
      "Processing record 528|urk\n",
      "Processing record 529|banff\n",
      "City not found. skipping.\n",
      "City not found. skipping.\n",
      "Processing record 530|vung tau\n",
      "Processing record 531|ozernovskiy\n",
      "Processing record 532|salinopolis\n",
      "Processing record 533|iskateley\n",
      "Processing record 534|margate\n",
      "Processing record 535|san joaquin\n",
      "City not found. skipping.\n",
      "Processing record 536|sechura\n",
      "Processing record 537|shenjiamen\n",
      "Processing record 538|langarud\n",
      "Processing record 539|oxapampa\n",
      "Processing record 540|dalby\n",
      "Processing record 541|diego de almagro\n",
      "Processing record 542|mwene-ditu\n",
      "Processing record 543|port augusta\n",
      "Processing record 544|fez\n",
      "Processing record 545|goderich\n",
      "Processing record 546|altagracia de orituco\n",
      "Processing record 547|nusaybin\n",
      "Processing record 548|matagami\n",
      "Processing record 549|mitzic\n",
      "City not found. skipping.\n",
      "Processing record 550|hamilton\n",
      "Processing record 551|pamplona\n",
      "Processing record 552|hailey\n",
      "Processing record 553|cabedelo\n",
      "Processing record 554|porangatu\n",
      "Processing record 555|price\n",
      "Processing record 556|sal rei\n",
      "Processing record 557|tra vinh\n",
      "Processing record 558|lima\n",
      "Processing record 559|mount gambier\n",
      "Processing record 560|acapulco\n",
      "Processing record 561|berlevag\n",
      "Processing record 562|hun\n",
      "Processing record 563|aksay\n"
     ]
    }
   ],
   "source": [
    "url = \"http://api.openweathermap.org/data/2.5/weather?units=Imperial&\"\n",
    "\n",
    "#Define empty lists to store values\n",
    "cloudiness = []\n",
    "country = []\n",
    "date = []\n",
    "max_temp = []\n",
    "humidity = []\n",
    "lat = []\n",
    "lng = []\n",
    "wind_speed = []\n",
    "city_name = []\n",
    "\n",
    "#Looping through cities to make api calls using city as query\n",
    "i = 1\n",
    "for city in cities:\n",
    "    city=city\n",
    "    query_url = url + \"appid=\" + api_key + \"&q=\" + city\n",
    "    response = requests.get(query_url).json()\n",
    "    \n",
    "#Extracting data. Missing data is handled by try and except  \n",
    "    try:\n",
    "        \n",
    "        cloudiness.append(response[\"clouds\"][\"all\"])\n",
    "        country.append(response[\"sys\"][\"country\"])\n",
    "        date.append(response[\"dt\"])\n",
    "        max_temp.append(response[\"main\"]['temp_max'])\n",
    "        humidity.append(response[\"main\"]['humidity'])\n",
    "        lat.append(response[\"coord\"][\"lat\"])  \n",
    "        lng.append(response[\"coord\"][\"lon\"])\n",
    "        wind_speed.append(response[\"wind\"][\"speed\"])\n",
    "        city_name.append(response[\"name\"])\n",
    "        print(f\"Processing record {i}|{city}\")\n",
    "        i+=1\n",
    "    except (KeyError):\n",
    "        print(\"City not found. skipping.\")"
   ]
  },
  {
   "cell_type": "markdown",
   "metadata": {},
   "source": [
    "### Convert Raw Data to DataFrame\n",
    "* Export the city data into a .csv.\n",
    "* Display the DataFrame"
   ]
  },
  {
   "cell_type": "code",
   "execution_count": 121,
   "metadata": {},
   "outputs": [
    {
     "data": {
      "text/html": [
       "<div>\n",
       "<style scoped>\n",
       "    .dataframe tbody tr th:only-of-type {\n",
       "        vertical-align: middle;\n",
       "    }\n",
       "\n",
       "    .dataframe tbody tr th {\n",
       "        vertical-align: top;\n",
       "    }\n",
       "\n",
       "    .dataframe thead th {\n",
       "        text-align: right;\n",
       "    }\n",
       "</style>\n",
       "<table border=\"1\" class=\"dataframe\">\n",
       "  <thead>\n",
       "    <tr style=\"text-align: right;\">\n",
       "      <th></th>\n",
       "      <th>City</th>\n",
       "      <th>Cloudiness</th>\n",
       "      <th>Country</th>\n",
       "      <th>Date</th>\n",
       "      <th>Humidity</th>\n",
       "      <th>Lat</th>\n",
       "      <th>Lng</th>\n",
       "      <th>Max Temp</th>\n",
       "      <th>Wind Speed</th>\n",
       "    </tr>\n",
       "    <tr>\n",
       "      <th>City ID</th>\n",
       "      <th></th>\n",
       "      <th></th>\n",
       "      <th></th>\n",
       "      <th></th>\n",
       "      <th></th>\n",
       "      <th></th>\n",
       "      <th></th>\n",
       "      <th></th>\n",
       "      <th></th>\n",
       "    </tr>\n",
       "  </thead>\n",
       "  <tbody>\n",
       "    <tr>\n",
       "      <th>0</th>\n",
       "      <td>Freeport</td>\n",
       "      <td>1</td>\n",
       "      <td>US</td>\n",
       "      <td>1604775840</td>\n",
       "      <td>35</td>\n",
       "      <td>40.66</td>\n",
       "      <td>-73.58</td>\n",
       "      <td>73.99</td>\n",
       "      <td>4.70</td>\n",
       "    </tr>\n",
       "    <tr>\n",
       "      <th>1</th>\n",
       "      <td>East London</td>\n",
       "      <td>0</td>\n",
       "      <td>ZA</td>\n",
       "      <td>1604775961</td>\n",
       "      <td>83</td>\n",
       "      <td>-33.02</td>\n",
       "      <td>27.91</td>\n",
       "      <td>71.60</td>\n",
       "      <td>9.17</td>\n",
       "    </tr>\n",
       "    <tr>\n",
       "      <th>2</th>\n",
       "      <td>Hermanus</td>\n",
       "      <td>0</td>\n",
       "      <td>ZA</td>\n",
       "      <td>1604776125</td>\n",
       "      <td>57</td>\n",
       "      <td>-34.42</td>\n",
       "      <td>19.23</td>\n",
       "      <td>64.99</td>\n",
       "      <td>13.00</td>\n",
       "    </tr>\n",
       "    <tr>\n",
       "      <th>3</th>\n",
       "      <td>Busselton</td>\n",
       "      <td>54</td>\n",
       "      <td>AU</td>\n",
       "      <td>1604776126</td>\n",
       "      <td>66</td>\n",
       "      <td>-33.65</td>\n",
       "      <td>115.33</td>\n",
       "      <td>55.00</td>\n",
       "      <td>3.27</td>\n",
       "    </tr>\n",
       "    <tr>\n",
       "      <th>4</th>\n",
       "      <td>The Valley</td>\n",
       "      <td>20</td>\n",
       "      <td>AI</td>\n",
       "      <td>1604776126</td>\n",
       "      <td>70</td>\n",
       "      <td>18.22</td>\n",
       "      <td>-63.06</td>\n",
       "      <td>87.80</td>\n",
       "      <td>13.87</td>\n",
       "    </tr>\n",
       "  </tbody>\n",
       "</table>\n",
       "</div>"
      ],
      "text/plain": [
       "                City  Cloudiness Country        Date  Humidity    Lat     Lng  \\\n",
       "City ID                                                                         \n",
       "0           Freeport           1      US  1604775840        35  40.66  -73.58   \n",
       "1        East London           0      ZA  1604775961        83 -33.02   27.91   \n",
       "2           Hermanus           0      ZA  1604776125        57 -34.42   19.23   \n",
       "3          Busselton          54      AU  1604776126        66 -33.65  115.33   \n",
       "4         The Valley          20      AI  1604776126        70  18.22  -63.06   \n",
       "\n",
       "         Max Temp  Wind Speed  \n",
       "City ID                        \n",
       "0           73.99        4.70  \n",
       "1           71.60        9.17  \n",
       "2           64.99       13.00  \n",
       "3           55.00        3.27  \n",
       "4           87.80       13.87  "
      ]
     },
     "execution_count": 121,
     "metadata": {},
     "output_type": "execute_result"
    }
   ],
   "source": [
    "#Creating city dataframe\n",
    "city_df = pd.DataFrame({\"City\":city_name, \n",
    "                        \"Cloudiness\":cloudiness, \n",
    "                        \"Country\":country, \n",
    "                        \"Date\":date, \n",
    "                        \"Humidity\":humidity,\n",
    "                        \"Lat\":lat,\n",
    "                        \"Lng\":lng,\n",
    "                        \"Max Temp\":max_temp,\n",
    "                        \"Wind Speed\":wind_speed\n",
    "                                         })\n",
    "city_df = city_df.rename_axis('City ID')\n",
    "\n",
    "#Exporting data to csv\n",
    "city_df.to_csv(\"../output_data/new_df_city_output.csv\")\n",
    "city_df.head()"
   ]
  },
  {
   "cell_type": "code",
   "execution_count": 90,
   "metadata": {},
   "outputs": [
    {
     "data": {
      "text/plain": [
       "City          563\n",
       "Cloudiness    563\n",
       "Country       563\n",
       "Date          563\n",
       "Humidity      563\n",
       "Lat           563\n",
       "Lng           563\n",
       "Max Temp      563\n",
       "Wind Speed    563\n",
       "dtype: int64"
      ]
     },
     "execution_count": 90,
     "metadata": {},
     "output_type": "execute_result"
    }
   ],
   "source": [
    "city_df.count()"
   ]
  },
  {
   "cell_type": "markdown",
   "metadata": {},
   "source": [
    "## Inspect the data and remove the cities where the humidity > 100%.\n",
    "----\n",
    "Skip this step if there are no cities that have humidity > 100%. "
   ]
  },
  {
   "cell_type": "code",
   "execution_count": 154,
   "metadata": {},
   "outputs": [
    {
     "data": {
      "text/html": [
       "<div>\n",
       "<style scoped>\n",
       "    .dataframe tbody tr th:only-of-type {\n",
       "        vertical-align: middle;\n",
       "    }\n",
       "\n",
       "    .dataframe tbody tr th {\n",
       "        vertical-align: top;\n",
       "    }\n",
       "\n",
       "    .dataframe thead th {\n",
       "        text-align: right;\n",
       "    }\n",
       "</style>\n",
       "<table border=\"1\" class=\"dataframe\">\n",
       "  <thead>\n",
       "    <tr style=\"text-align: right;\">\n",
       "      <th></th>\n",
       "      <th>City</th>\n",
       "      <th>Cloudiness</th>\n",
       "      <th>Country</th>\n",
       "      <th>Date</th>\n",
       "      <th>Humidity</th>\n",
       "      <th>Lat</th>\n",
       "      <th>Lng</th>\n",
       "      <th>Max Temp</th>\n",
       "      <th>Wind Speed</th>\n",
       "    </tr>\n",
       "    <tr>\n",
       "      <th>City ID</th>\n",
       "      <th></th>\n",
       "      <th></th>\n",
       "      <th></th>\n",
       "      <th></th>\n",
       "      <th></th>\n",
       "      <th></th>\n",
       "      <th></th>\n",
       "      <th></th>\n",
       "      <th></th>\n",
       "    </tr>\n",
       "  </thead>\n",
       "  <tbody>\n",
       "    <tr>\n",
       "      <th>0</th>\n",
       "      <td>Freeport</td>\n",
       "      <td>1</td>\n",
       "      <td>US</td>\n",
       "      <td>1604775840</td>\n",
       "      <td>35</td>\n",
       "      <td>40.66</td>\n",
       "      <td>-73.58</td>\n",
       "      <td>73.99</td>\n",
       "      <td>4.70</td>\n",
       "    </tr>\n",
       "    <tr>\n",
       "      <th>1</th>\n",
       "      <td>East London</td>\n",
       "      <td>0</td>\n",
       "      <td>ZA</td>\n",
       "      <td>1604775961</td>\n",
       "      <td>83</td>\n",
       "      <td>-33.02</td>\n",
       "      <td>27.91</td>\n",
       "      <td>71.60</td>\n",
       "      <td>9.17</td>\n",
       "    </tr>\n",
       "    <tr>\n",
       "      <th>2</th>\n",
       "      <td>Hermanus</td>\n",
       "      <td>0</td>\n",
       "      <td>ZA</td>\n",
       "      <td>1604776125</td>\n",
       "      <td>57</td>\n",
       "      <td>-34.42</td>\n",
       "      <td>19.23</td>\n",
       "      <td>64.99</td>\n",
       "      <td>13.00</td>\n",
       "    </tr>\n",
       "    <tr>\n",
       "      <th>3</th>\n",
       "      <td>Busselton</td>\n",
       "      <td>54</td>\n",
       "      <td>AU</td>\n",
       "      <td>1604776126</td>\n",
       "      <td>66</td>\n",
       "      <td>-33.65</td>\n",
       "      <td>115.33</td>\n",
       "      <td>55.00</td>\n",
       "      <td>3.27</td>\n",
       "    </tr>\n",
       "    <tr>\n",
       "      <th>4</th>\n",
       "      <td>The Valley</td>\n",
       "      <td>20</td>\n",
       "      <td>AI</td>\n",
       "      <td>1604776126</td>\n",
       "      <td>70</td>\n",
       "      <td>18.22</td>\n",
       "      <td>-63.06</td>\n",
       "      <td>87.80</td>\n",
       "      <td>13.87</td>\n",
       "    </tr>\n",
       "  </tbody>\n",
       "</table>\n",
       "</div>"
      ],
      "text/plain": [
       "                City  Cloudiness Country        Date  Humidity    Lat     Lng  \\\n",
       "City ID                                                                         \n",
       "0           Freeport           1      US  1604775840        35  40.66  -73.58   \n",
       "1        East London           0      ZA  1604775961        83 -33.02   27.91   \n",
       "2           Hermanus           0      ZA  1604776125        57 -34.42   19.23   \n",
       "3          Busselton          54      AU  1604776126        66 -33.65  115.33   \n",
       "4         The Valley          20      AI  1604776126        70  18.22  -63.06   \n",
       "\n",
       "         Max Temp  Wind Speed  \n",
       "City ID                        \n",
       "0           73.99        4.70  \n",
       "1           71.60        9.17  \n",
       "2           64.99       13.00  \n",
       "3           55.00        3.27  \n",
       "4           87.80       13.87  "
      ]
     },
     "execution_count": 154,
     "metadata": {},
     "output_type": "execute_result"
    }
   ],
   "source": [
    "city_df2=city_df.loc[city_df[\"Humidity\"] <= 100,:]\n",
    "city_df2.head()"
   ]
  },
  {
   "cell_type": "code",
   "execution_count": 152,
   "metadata": {},
   "outputs": [
    {
     "name": "stdout",
     "output_type": "stream",
     "text": [
      "[]\n"
     ]
    }
   ],
   "source": [
    "#  Get the indices of cities that have humidity over 100%.\n",
    "city_indices_df3=city_df.loc[city_df[\"Humidity\"] > 100,:]\n",
    "indices=city_indices_df3.index.values\n",
    "print(city_indices_df3.index.values)"
   ]
  },
  {
   "cell_type": "code",
   "execution_count": 127,
   "metadata": {},
   "outputs": [
    {
     "data": {
      "text/html": [
       "<div>\n",
       "<style scoped>\n",
       "    .dataframe tbody tr th:only-of-type {\n",
       "        vertical-align: middle;\n",
       "    }\n",
       "\n",
       "    .dataframe tbody tr th {\n",
       "        vertical-align: top;\n",
       "    }\n",
       "\n",
       "    .dataframe thead th {\n",
       "        text-align: right;\n",
       "    }\n",
       "</style>\n",
       "<table border=\"1\" class=\"dataframe\">\n",
       "  <thead>\n",
       "    <tr style=\"text-align: right;\">\n",
       "      <th></th>\n",
       "      <th>City</th>\n",
       "      <th>Cloudiness</th>\n",
       "      <th>Country</th>\n",
       "      <th>Date</th>\n",
       "      <th>Humidity</th>\n",
       "      <th>Lat</th>\n",
       "      <th>Lng</th>\n",
       "      <th>Max Temp</th>\n",
       "      <th>Wind Speed</th>\n",
       "    </tr>\n",
       "    <tr>\n",
       "      <th>City ID</th>\n",
       "      <th></th>\n",
       "      <th></th>\n",
       "      <th></th>\n",
       "      <th></th>\n",
       "      <th></th>\n",
       "      <th></th>\n",
       "      <th></th>\n",
       "      <th></th>\n",
       "      <th></th>\n",
       "    </tr>\n",
       "  </thead>\n",
       "  <tbody>\n",
       "    <tr>\n",
       "      <th>0</th>\n",
       "      <td>Freeport</td>\n",
       "      <td>1</td>\n",
       "      <td>US</td>\n",
       "      <td>1604775840</td>\n",
       "      <td>35</td>\n",
       "      <td>40.66</td>\n",
       "      <td>-73.58</td>\n",
       "      <td>73.99</td>\n",
       "      <td>4.70</td>\n",
       "    </tr>\n",
       "    <tr>\n",
       "      <th>1</th>\n",
       "      <td>East London</td>\n",
       "      <td>0</td>\n",
       "      <td>ZA</td>\n",
       "      <td>1604775961</td>\n",
       "      <td>83</td>\n",
       "      <td>-33.02</td>\n",
       "      <td>27.91</td>\n",
       "      <td>71.60</td>\n",
       "      <td>9.17</td>\n",
       "    </tr>\n",
       "    <tr>\n",
       "      <th>2</th>\n",
       "      <td>Hermanus</td>\n",
       "      <td>0</td>\n",
       "      <td>ZA</td>\n",
       "      <td>1604776125</td>\n",
       "      <td>57</td>\n",
       "      <td>-34.42</td>\n",
       "      <td>19.23</td>\n",
       "      <td>64.99</td>\n",
       "      <td>13.00</td>\n",
       "    </tr>\n",
       "    <tr>\n",
       "      <th>3</th>\n",
       "      <td>Busselton</td>\n",
       "      <td>54</td>\n",
       "      <td>AU</td>\n",
       "      <td>1604776126</td>\n",
       "      <td>66</td>\n",
       "      <td>-33.65</td>\n",
       "      <td>115.33</td>\n",
       "      <td>55.00</td>\n",
       "      <td>3.27</td>\n",
       "    </tr>\n",
       "    <tr>\n",
       "      <th>4</th>\n",
       "      <td>The Valley</td>\n",
       "      <td>20</td>\n",
       "      <td>AI</td>\n",
       "      <td>1604776126</td>\n",
       "      <td>70</td>\n",
       "      <td>18.22</td>\n",
       "      <td>-63.06</td>\n",
       "      <td>87.80</td>\n",
       "      <td>13.87</td>\n",
       "    </tr>\n",
       "    <tr>\n",
       "      <th>...</th>\n",
       "      <td>...</td>\n",
       "      <td>...</td>\n",
       "      <td>...</td>\n",
       "      <td>...</td>\n",
       "      <td>...</td>\n",
       "      <td>...</td>\n",
       "      <td>...</td>\n",
       "      <td>...</td>\n",
       "      <td>...</td>\n",
       "    </tr>\n",
       "    <tr>\n",
       "      <th>558</th>\n",
       "      <td>Mount Gambier</td>\n",
       "      <td>0</td>\n",
       "      <td>AU</td>\n",
       "      <td>1604776202</td>\n",
       "      <td>93</td>\n",
       "      <td>-37.83</td>\n",
       "      <td>140.77</td>\n",
       "      <td>41.00</td>\n",
       "      <td>6.93</td>\n",
       "    </tr>\n",
       "    <tr>\n",
       "      <th>559</th>\n",
       "      <td>Acapulco de Juárez</td>\n",
       "      <td>5</td>\n",
       "      <td>MX</td>\n",
       "      <td>1604776068</td>\n",
       "      <td>70</td>\n",
       "      <td>16.86</td>\n",
       "      <td>-99.89</td>\n",
       "      <td>86.00</td>\n",
       "      <td>3.36</td>\n",
       "    </tr>\n",
       "    <tr>\n",
       "      <th>560</th>\n",
       "      <td>Berlevåg</td>\n",
       "      <td>90</td>\n",
       "      <td>NO</td>\n",
       "      <td>1604776202</td>\n",
       "      <td>80</td>\n",
       "      <td>70.86</td>\n",
       "      <td>29.09</td>\n",
       "      <td>39.20</td>\n",
       "      <td>31.09</td>\n",
       "    </tr>\n",
       "    <tr>\n",
       "      <th>561</th>\n",
       "      <td>Hūn</td>\n",
       "      <td>1</td>\n",
       "      <td>LY</td>\n",
       "      <td>1604776202</td>\n",
       "      <td>67</td>\n",
       "      <td>29.13</td>\n",
       "      <td>15.95</td>\n",
       "      <td>62.55</td>\n",
       "      <td>9.01</td>\n",
       "    </tr>\n",
       "    <tr>\n",
       "      <th>562</th>\n",
       "      <td>Aksay</td>\n",
       "      <td>20</td>\n",
       "      <td>RU</td>\n",
       "      <td>1604776202</td>\n",
       "      <td>87</td>\n",
       "      <td>47.26</td>\n",
       "      <td>39.87</td>\n",
       "      <td>46.40</td>\n",
       "      <td>8.95</td>\n",
       "    </tr>\n",
       "  </tbody>\n",
       "</table>\n",
       "<p>563 rows × 9 columns</p>\n",
       "</div>"
      ],
      "text/plain": [
       "                       City  Cloudiness Country        Date  Humidity    Lat  \\\n",
       "City ID                                                                        \n",
       "0                  Freeport           1      US  1604775840        35  40.66   \n",
       "1               East London           0      ZA  1604775961        83 -33.02   \n",
       "2                  Hermanus           0      ZA  1604776125        57 -34.42   \n",
       "3                 Busselton          54      AU  1604776126        66 -33.65   \n",
       "4                The Valley          20      AI  1604776126        70  18.22   \n",
       "...                     ...         ...     ...         ...       ...    ...   \n",
       "558           Mount Gambier           0      AU  1604776202        93 -37.83   \n",
       "559      Acapulco de Juárez           5      MX  1604776068        70  16.86   \n",
       "560                Berlevåg          90      NO  1604776202        80  70.86   \n",
       "561                     Hūn           1      LY  1604776202        67  29.13   \n",
       "562                   Aksay          20      RU  1604776202        87  47.26   \n",
       "\n",
       "            Lng  Max Temp  Wind Speed  \n",
       "City ID                                \n",
       "0        -73.58     73.99        4.70  \n",
       "1         27.91     71.60        9.17  \n",
       "2         19.23     64.99       13.00  \n",
       "3        115.33     55.00        3.27  \n",
       "4        -63.06     87.80       13.87  \n",
       "...         ...       ...         ...  \n",
       "558      140.77     41.00        6.93  \n",
       "559      -99.89     86.00        3.36  \n",
       "560       29.09     39.20       31.09  \n",
       "561       15.95     62.55        9.01  \n",
       "562       39.87     46.40        8.95  \n",
       "\n",
       "[563 rows x 9 columns]"
      ]
     },
     "execution_count": 127,
     "metadata": {},
     "output_type": "execute_result"
    }
   ],
   "source": [
    "# Make a new DataFrame equal to the city data to drop all humidity outliers by index.\n",
    "# Passing \"inplace=False\" will make a copy of the city_data DataFrame, which we call \"clean_city_data\".\n",
    "city_df2.drop(indices, inplace=True)\n",
    "city_df2"
   ]
  },
  {
   "cell_type": "markdown",
   "metadata": {},
   "source": [
    "## Plotting the Data\n",
    "* Use proper labeling of the plots using plot titles (including date of analysis) and axes labels.\n",
    "* Save the plotted figures as .pngs."
   ]
  },
  {
   "cell_type": "markdown",
   "metadata": {},
   "source": [
    "## Latitude vs. Temperature Plot"
   ]
  },
  {
   "cell_type": "code",
   "execution_count": 128,
   "metadata": {
    "scrolled": true
   },
   "outputs": [
    {
     "data": {
      "image/png": "[encoded data removed]",
      "text/plain": [
       "<Figure size 432x288 with 1 Axes>"
      ]
     },
     "metadata": {
      "needs_background": "light"
     },
     "output_type": "display_data"
    }
   ],
   "source": [
    "from datetime import datetime\n",
    "\n",
    "#Creating plot\n",
    "plt.scatter(city_df[\"Lat\"], city_df[\"Max Temp\"], marker = \"o\", color = \"blue\",edgecolor = \"black\")\n",
    "plt.grid()\n",
    "plt.xlabel(\"Latitude\")\n",
    "plt.ylabel(\"Max Temperature (F)\")\n",
    "plt.savefig(\"Lat_vs_temp_plot\")\n",
    "plt.title(f\"Latitude vs. Temperature on {datetime.today().date()}\")\n",
    "# Save Figure\n",
    "plt.savefig(\"../output_data/City_Latitude_vs_Max_Temperature.png\")\n",
    "plt.show()"
   ]
  },
  {
   "cell_type": "markdown",
   "metadata": {},
   "source": [
    "## Latitude vs. Humidity Plot"
   ]
  },
  {
   "cell_type": "code",
   "execution_count": 155,
   "metadata": {},
   "outputs": [
    {
     "data": {
      "image/png": "[encoded data removed]",
      "text/plain": [
       "<Figure size 432x288 with 1 Axes>"
      ]
     },
     "metadata": {
      "needs_background": "light"
     },
     "output_type": "display_data"
    }
   ],
   "source": [
    "plt.scatter(city_df[\"Lat\"], city_df[\"Humidity\"], marker = \"o\", color = \"red\",edgecolor = \"black\")\n",
    "plt.grid()\n",
    "plt.ylim(0, city_df[\"Humidity\"].max()+50)\n",
    "plt.xlabel(\"Latitude\")\n",
    "plt.ylabel(\"Humidity(%)\")\n",
    "plt.title(f\"Latitude vs. Temperature on {datetime.today().date()}\")\n",
    "plt.savefig(\"Lat_vs_humidity_plot\")\n",
    "# Save Figure\n",
    "plt.savefig(\"../output_data/City_Latitude_vs_Humidity.png\")\n",
    "plt.show()"
   ]
  },
  {
   "cell_type": "markdown",
   "metadata": {},
   "source": [
    "## Latitude vs. Cloudiness Plot"
   ]
  },
  {
   "cell_type": "code",
   "execution_count": 156,
   "metadata": {},
   "outputs": [
    {
     "data": {
      "image/png": "[encoded data removed]",
      "text/plain": [
       "<Figure size 432x288 with 1 Axes>"
      ]
     },
     "metadata": {
      "needs_background": "light"
     },
     "output_type": "display_data"
    }
   ],
   "source": [
    "plt.scatter(city_df[\"Lat\"], city_df[\"Cloudiness\"], marker = \"o\", color = \"green\",edgecolor = \"black\")\n",
    "plt.grid()\n",
    "plt.xlabel(\"Latitude\")\n",
    "plt.ylabel(\"Cloudiness(%)\")\n",
    "plt.title(f\"Latitude vs. Temperature on {datetime.today().date()}\")\n",
    "plt.savefig(\"Lat_vs_cloudiness_plot\")\n",
    "# Save Figure\n",
    "plt.savefig(\"../output_data/City_Latitude_vs_Cloudiness.png\")\n",
    "plt.show()"
   ]
  },
  {
   "cell_type": "markdown",
   "metadata": {},
   "source": [
    "## Latitude vs. Wind Speed Plot"
   ]
  },
  {
   "cell_type": "code",
   "execution_count": 131,
   "metadata": {},
   "outputs": [
    {
     "data": {
      "image/png": "[encoded data removed]",
      "text/plain": [
       "<Figure size 432x288 with 1 Axes>"
      ]
     },
     "metadata": {
      "needs_background": "light"
     },
     "output_type": "display_data"
    }
   ],
   "source": [
    "plt.scatter(city_df[\"Lat\"], city_df[\"Wind Speed\"], marker = \"o\", color = \"blue\",edgecolor = \"black\")\n",
    "plt.grid()\n",
    "plt.xlabel(\"Latitude\")\n",
    "plt.ylabel(\"Wind Speed(mph)\")\n",
    "plt.title(f\"Latitude vs. Temperature on {datetime.today().date()}\")\n",
    "plt.savefig(\"Lat_vs_windSpeed_plot\")\n",
    "# Save Figure\n",
    "plt.savefig(\"../output_data/City_Latitude_vs_Wind_Speed.png\")\n",
    "plt.show()"
   ]
  },
  {
   "cell_type": "markdown",
   "metadata": {},
   "source": [
    "## Linear Regression"
   ]
  },
  {
   "cell_type": "code",
   "execution_count": 141,
   "metadata": {},
   "outputs": [],
   "source": [
    "def linear_reg_plot(x_values,y_values):\n",
    "    (slope, intercept, rvalue, pvalue, stderr) = linregress(x_values, y_values)\n",
    "    regress_values = x_values * slope + intercept\n",
    "    line_eq = \"y = \" + str(round(slope,2)) + \"x + \" + str(round(intercept,2))\n",
    "    plt.scatter(x_values,y_values)\n",
    "    plt.plot(x_values,regress_values,\"r-\")\n",
    "    plt.annotate(line_eq,(x_values.median(),y_values.median()),fontsize=15,color=\"red\")\n",
    "    plt.xlabel(\"Latitude\")\n",
    "    print(f\"The r-squared is: {rvalue}\")"
   ]
  },
  {
   "cell_type": "markdown",
   "metadata": {},
   "source": [
    "####  Northern Hemisphere - Max Temp vs. Latitude Linear Regression"
   ]
  },
  {
   "cell_type": "code",
   "execution_count": 143,
   "metadata": {},
   "outputs": [
    {
     "name": "stdout",
     "output_type": "stream",
     "text": [
      "The r-squared is: -0.845323812064231\n",
      "None\n"
     ]
    },
    {
     "data": {
      "image/png": "[encoded data removed]",
      "text/plain": [
       "<Figure size 432x288 with 1 Axes>"
      ]
     },
     "metadata": {
      "needs_background": "light"
     },
     "output_type": "display_data"
    }
   ],
   "source": [
    "Northern_hemisphere = city_df.loc[city_df[\"Lat\"]>0]\n",
    "x_values = Northern_hemisphere[\"Lat\"]\n",
    "y_values = Northern_hemisphere[\"Max Temp\"]\n",
    "plt.ylabel(\"Max Temp (F)\")\n",
    "print(linear_reg_plot(x_values,y_values))\n",
    "# Save Figure\n",
    "plt.savefig(\"../output_data/Northern Hemisphere - Max Temp vs. Latitude Linear Regression.png\")\n",
    "plt.show()"
   ]
  },
  {
   "cell_type": "markdown",
   "metadata": {},
   "source": [
    "####  Southern Hemisphere - Max Temp vs. Latitude Linear Regression"
   ]
  },
  {
   "cell_type": "code",
   "execution_count": 144,
   "metadata": {},
   "outputs": [
    {
     "name": "stdout",
     "output_type": "stream",
     "text": [
      "The r-squared is: 0.6382614374174741\n",
      "None\n"
     ]
    },
    {
     "data": {
      "image/png": "[encoded data removed]",
      "text/plain": [
       "<Figure size 432x288 with 1 Axes>"
      ]
     },
     "metadata": {
      "needs_background": "light"
     },
     "output_type": "display_data"
    }
   ],
   "source": [
    "Southern_hemisphere = city_df.loc[city_df[\"Lat\"]<0]\n",
    "x_values = Southern_hemisphere[\"Lat\"]\n",
    "y_values = Southern_hemisphere[\"Max Temp\"]\n",
    "plt.ylabel(\"Max Temp\")\n",
    "print(linear_reg_plot(x_values,y_values))\n",
    "# Save Figure\n",
    "plt.savefig(\"../output_data/southern Hemisphere - Max Temp vs. Latitude Linear Regression.png\")\n",
    "plt.show()"
   ]
  },
  {
   "cell_type": "markdown",
   "metadata": {},
   "source": [
    "####  Northern Hemisphere - Humidity (%) vs. Latitude Linear Regression"
   ]
  },
  {
   "cell_type": "code",
   "execution_count": 145,
   "metadata": {},
   "outputs": [
    {
     "name": "stdout",
     "output_type": "stream",
     "text": [
      "The r-squared is: 0.3042839531602262\n",
      "None\n"
     ]
    },
    {
     "data": {
      "image/png": "[encoded data removed]",
      "text/plain": [
       "<Figure size 432x288 with 1 Axes>"
      ]
     },
     "metadata": {
      "needs_background": "light"
     },
     "output_type": "display_data"
    }
   ],
   "source": [
    "x_values = Northern_hemisphere[\"Lat\"]\n",
    "y_values = Northern_hemisphere[\"Humidity\"]\n",
    "plt.ylabel(\"Humidity (%)\")\n",
    "print(linear_reg_plot(x_values,y_values))\n",
    "# Save Figure\n",
    "plt.savefig(\"../output_data/Northern Hemisphere - Humidity (%) vs. Latitude Linear Regression.png\")\n",
    "plt.show()"
   ]
  },
  {
   "cell_type": "markdown",
   "metadata": {},
   "source": [
    "####  Southern Hemisphere - Humidity (%) vs. Latitude Linear Regression"
   ]
  },
  {
   "cell_type": "code",
   "execution_count": 146,
   "metadata": {},
   "outputs": [
    {
     "name": "stdout",
     "output_type": "stream",
     "text": [
      "The r-squared is: 0.11994254055812338\n",
      "None\n"
     ]
    },
    {
     "data": {
      "image/png": "[encoded data removed]",
      "text/plain": [
       "<Figure size 432x288 with 1 Axes>"
      ]
     },
     "metadata": {
      "needs_background": "light"
     },
     "output_type": "display_data"
    }
   ],
   "source": [
    "x_values = Southern_hemisphere[\"Lat\"]\n",
    "y_values = Southern_hemisphere[\"Humidity\"]\n",
    "plt.ylim(0, y_values.max()+100)\n",
    "plt.ylabel(\"Humidity (%)\")\n",
    "print(linear_reg_plot(x_values,y_values))\n",
    "# Save Figure\n",
    "plt.savefig(\"../output_data/Southern Hemisphere - Humidity (%) vs. Latitude Linear Regression.png\")\n",
    "plt.show()"
   ]
  },
  {
   "cell_type": "markdown",
   "metadata": {},
   "source": [
    "####  Northern Hemisphere - Cloudiness (%) vs. Latitude Linear Regression"
   ]
  },
  {
   "cell_type": "code",
   "execution_count": 147,
   "metadata": {},
   "outputs": [
    {
     "name": "stdout",
     "output_type": "stream",
     "text": [
      "The r-squared is: 0.24552525920458668\n",
      "None\n"
     ]
    },
    {
     "data": {
      "image/png": "[encoded data removed]",
      "text/plain": [
       "<Figure size 432x288 with 1 Axes>"
      ]
     },
     "metadata": {
      "needs_background": "light"
     },
     "output_type": "display_data"
    }
   ],
   "source": [
    "\n",
    "x_values = Northern_hemisphere[\"Lat\"]\n",
    "y_values = Northern_hemisphere[\"Cloudiness\"]\n",
    "plt.ylabel(\"Cloudiness\")\n",
    "print(linear_reg_plot(x_values,y_values))\n",
    "# Save Figure\n",
    "plt.savefig(\"../output_data/Northern Hemisphere - Cloudiness (%) vs. Latitude Linear Regression.png\")\n",
    "plt.show()"
   ]
  },
  {
   "cell_type": "markdown",
   "metadata": {},
   "source": [
    "####  Southern Hemisphere - Cloudiness (%) vs. Latitude Linear Regression"
   ]
  },
  {
   "cell_type": "code",
   "execution_count": 148,
   "metadata": {},
   "outputs": [
    {
     "name": "stdout",
     "output_type": "stream",
     "text": [
      "The r-squared is: 0.281410326676649\n",
      "None\n"
     ]
    },
    {
     "data": {
      "image/png": "[encoded data removed]",
      "text/plain": [
       "<Figure size 432x288 with 1 Axes>"
      ]
     },
     "metadata": {
      "needs_background": "light"
     },
     "output_type": "display_data"
    }
   ],
   "source": [
    "x_values = Southern_hemisphere[\"Lat\"]\n",
    "y_values = Southern_hemisphere[\"Cloudiness\"]\n",
    "plt.ylabel(\"Cloudiness\")\n",
    "print(linear_reg_plot(x_values,y_values))\n",
    "# Save Figure\n",
    "plt.savefig(\"../output_data/Southern Hemisphere - Cloudiness (%) vs. Latitude Linear Regression.png\")\n",
    "plt.show()"
   ]
  },
  {
   "cell_type": "markdown",
   "metadata": {},
   "source": [
    "####  Northern Hemisphere - Wind Speed (mph) vs. Latitude Linear Regression"
   ]
  },
  {
   "cell_type": "code",
   "execution_count": 149,
   "metadata": {},
   "outputs": [
    {
     "name": "stdout",
     "output_type": "stream",
     "text": [
      "The r-squared is: 0.23646989215029587\n",
      "None\n"
     ]
    },
    {
     "data": {
      "image/png": "[encoded data removed]",
      "text/plain": [
       "<Figure size 432x288 with 1 Axes>"
      ]
     },
     "metadata": {
      "needs_background": "light"
     },
     "output_type": "display_data"
    }
   ],
   "source": [
    "x_values = Northern_hemisphere[\"Lat\"]\n",
    "y_values = Northern_hemisphere[\"Wind Speed\"]\n",
    "plt.ylabel(\"Wind Speed\")\n",
    "print(linear_reg_plot(x_values,y_values))\n",
    "# Save Figure\n",
    "plt.savefig(\"../output_data/Northern Hemisphere - WindSpeed(mph)) vs. Latitude Linear Regression.png\")\n",
    "plt.show()"
   ]
  },
  {
   "cell_type": "markdown",
   "metadata": {},
   "source": [
    "####  Southern Hemisphere - Wind Speed (mph) vs. Latitude Linear Regression"
   ]
  },
  {
   "cell_type": "code",
   "execution_count": 150,
   "metadata": {},
   "outputs": [
    {
     "name": "stdout",
     "output_type": "stream",
     "text": [
      "The r-squared is: -0.24045769091079772\n",
      "None\n"
     ]
    },
    {
     "data": {
      "image/png": "[encoded data removed]",
      "text/plain": [
       "<Figure size 432x288 with 1 Axes>"
      ]
     },
     "metadata": {
      "needs_background": "light"
     },
     "output_type": "display_data"
    }
   ],
   "source": [
    "x_values = Southern_hemisphere[\"Lat\"]\n",
    "y_values = Southern_hemisphere[\"Wind Speed\"]\n",
    "plt.ylabel(\"Wind Speed\")\n",
    "print(linear_reg_plot(x_values,y_values))\n",
    "# Save Figure\n",
    "plt.savefig(\"../output_data/Southern Hemisphere - WindSpeed(mph)) vs. Latitude Linear Regression.png\")\n",
    "plt.show()"
   ]
  },
  {
   "cell_type": "code",
   "execution_count": null,
   "metadata": {},
   "outputs": [],
   "source": []
  }
 ],
 "metadata": {
  "anaconda-cloud": {},
  "kernel_info": {
   "name": "python3"
  },
  "kernelspec": {
   "display_name": "Python 3",
   "language": "python",
   "name": "python3"
  },
  "language_info": {
   "codemirror_mode": {
    "name": "ipython",
    "version": 3
   },
   "file_extension": ".py",
   "mimetype": "text/x-python",
   "name": "python",
   "nbconvert_exporter": "python",
   "pygments_lexer": "ipython3",
   "version": "3.8.3"
  },
  "latex_envs": {
   "LaTeX_envs_menu_present": true,
   "autoclose": false,
   "autocomplete": true,
   "bibliofile": "biblio.bib",
   "cite_by": "apalike",
   "current_citInitial": 1,
   "eqLabelWithNumbers": true,
   "eqNumInitial": 1,
   "hotkeys": {
    "equation": "Ctrl-E",
    "itemize": "Ctrl-I"
   },
   "labels_anchors": false,
   "latex_user_defs": false,
   "report_style_numbering": false,
   "user_envs_cfg": false
  },
  "nteract": {
   "version": "0.12.3"
  }
 },
 "nbformat": 4,
 "nbformat_minor": 2
}
